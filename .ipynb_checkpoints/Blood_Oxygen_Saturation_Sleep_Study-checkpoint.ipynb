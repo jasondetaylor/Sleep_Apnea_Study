{
 "cells": [
  {
   "cell_type": "markdown",
   "id": "e9b004e6",
   "metadata": {},
   "source": [
    "# Blood Oxygen Saturation Sleep Study"
   ]
  },
  {
   "cell_type": "markdown",
   "id": "aa1e8412",
   "metadata": {},
   "source": [
    "This notebook utilizes data recorded using a pulse oximiter to try and quantify the prescence/effect of apnea events during sleep."
   ]
  },
  {
   "cell_type": "code",
   "execution_count": 1,
   "id": "f1f696af",
   "metadata": {},
   "outputs": [],
   "source": [
    "import pandas as pd"
   ]
  },
  {
   "cell_type": "code",
   "execution_count": 4,
   "id": "d868d31c",
   "metadata": {},
   "outputs": [],
   "source": [
    "df = pd.read_csv('data/20231111-20231211_OXYGEN_medm.csv')"
   ]
  },
  {
   "cell_type": "code",
   "execution_count": 5,
   "id": "cbc29464",
   "metadata": {},
   "outputs": [
    {
     "data": {
      "text/html": [
       "<div>\n",
       "<style scoped>\n",
       "    .dataframe tbody tr th:only-of-type {\n",
       "        vertical-align: middle;\n",
       "    }\n",
       "\n",
       "    .dataframe tbody tr th {\n",
       "        vertical-align: top;\n",
       "    }\n",
       "\n",
       "    .dataframe thead th {\n",
       "        text-align: right;\n",
       "    }\n",
       "</style>\n",
       "<table border=\"1\" class=\"dataframe\">\n",
       "  <thead>\n",
       "    <tr style=\"text-align: right;\">\n",
       "      <th></th>\n",
       "      <th>Date</th>\n",
       "      <th>Time</th>\n",
       "      <th>SpO2 (%)</th>\n",
       "      <th>Pulse</th>\n",
       "      <th>Duration</th>\n",
       "      <th>Source</th>\n",
       "    </tr>\n",
       "  </thead>\n",
       "  <tbody>\n",
       "    <tr>\n",
       "      <th>0</th>\n",
       "      <td>2023-12-11</td>\n",
       "      <td>01:04</td>\n",
       "      <td>98.0</td>\n",
       "      <td>44.0</td>\n",
       "      <td>1min 20s</td>\n",
       "      <td>Oxiline Pulse XS Pro</td>\n",
       "    </tr>\n",
       "    <tr>\n",
       "      <th>1</th>\n",
       "      <td>2023-12-11</td>\n",
       "      <td>00:54</td>\n",
       "      <td>97.0</td>\n",
       "      <td>46.0</td>\n",
       "      <td>10min 0s</td>\n",
       "      <td>Oxiline Pulse XS Pro</td>\n",
       "    </tr>\n",
       "    <tr>\n",
       "      <th>2</th>\n",
       "      <td>2023-12-11</td>\n",
       "      <td>00:44</td>\n",
       "      <td>97.0</td>\n",
       "      <td>45.0</td>\n",
       "      <td>10min 0s</td>\n",
       "      <td>Oxiline Pulse XS Pro</td>\n",
       "    </tr>\n",
       "    <tr>\n",
       "      <th>3</th>\n",
       "      <td>2023-12-11</td>\n",
       "      <td>00:34</td>\n",
       "      <td>98.0</td>\n",
       "      <td>47.0</td>\n",
       "      <td>10min 0s</td>\n",
       "      <td>Oxiline Pulse XS Pro</td>\n",
       "    </tr>\n",
       "    <tr>\n",
       "      <th>4</th>\n",
       "      <td>2023-12-11</td>\n",
       "      <td>00:24</td>\n",
       "      <td>97.0</td>\n",
       "      <td>44.0</td>\n",
       "      <td>10min 0s</td>\n",
       "      <td>Oxiline Pulse XS Pro</td>\n",
       "    </tr>\n",
       "  </tbody>\n",
       "</table>\n",
       "</div>"
      ],
      "text/plain": [
       "         Date   Time  SpO2 (%)  Pulse  Duration                Source\n",
       "0  2023-12-11  01:04      98.0   44.0  1min 20s  Oxiline Pulse XS Pro\n",
       "1  2023-12-11  00:54      97.0   46.0  10min 0s  Oxiline Pulse XS Pro\n",
       "2  2023-12-11  00:44      97.0   45.0  10min 0s  Oxiline Pulse XS Pro\n",
       "3  2023-12-11  00:34      98.0   47.0  10min 0s  Oxiline Pulse XS Pro\n",
       "4  2023-12-11  00:24      97.0   44.0  10min 0s  Oxiline Pulse XS Pro"
      ]
     },
     "execution_count": 5,
     "metadata": {},
     "output_type": "execute_result"
    }
   ],
   "source": [
    "df.head()"
   ]
  }
 ],
 "metadata": {
  "kernelspec": {
   "display_name": "Python 3 (ipykernel)",
   "language": "python",
   "name": "python3"
  },
  "language_info": {
   "codemirror_mode": {
    "name": "ipython",
    "version": 3
   },
   "file_extension": ".py",
   "mimetype": "text/x-python",
   "name": "python",
   "nbconvert_exporter": "python",
   "pygments_lexer": "ipython3",
   "version": "3.9.13"
  }
 },
 "nbformat": 4,
 "nbformat_minor": 5
}
