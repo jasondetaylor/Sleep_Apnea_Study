{
 "cells": [
  {
   "cell_type": "markdown",
   "id": "e9b004e6",
   "metadata": {},
   "source": [
    "# Blood Oxygen Saturation Sleep Study"
   ]
  },
  {
   "cell_type": "markdown",
   "id": "aa1e8412",
   "metadata": {},
   "source": [
    "This notebook utilizes data recorded using a pulse oximiter to try and quantify the prescence/effect of apnea events during sleep."
   ]
  },
  {
   "cell_type": "markdown",
   "id": "164ef2dc",
   "metadata": {},
   "source": [
    "## Research and Proposed Analysis"
   ]
  },
  {
   "cell_type": "markdown",
   "id": "fcf731e3",
   "metadata": {},
   "source": [
    "Sleep apnea events are typically measured by monitoring airflow. The number of apnea events per hour, referred to as a patient's apnea index, classifies the severity of the obstructive sleep apnea (OSA). As an alternative, blood oxygen level can be used to infer these apnea events using a very similar oxygen desaturation index (ODI). An ODI doesn't appear to adbide by a standard definition, with one study defining it as $\\geq$4% reduction in SpO2 from baseline per hour (regardless of duration of reduced oxygen saturation (https://www.ncbi.nlm.nih.gov/pmc/articles/PMC6259496/). This study also recorded episodes of $\\geq3$% and $\\geq$2% SPO2 reductions. Another study defined it as a \"decrease in the mean oxygen saturation of ≥3% (over the last 120 seconds) that lasts for at least 10 seconds\" (https://www.ncbi.nlm.nih.gov/pmc/articles/PMC8889990/).\n",
    "\n",
    "Translating these methods to our study, lets check for all of the above, especially considering my apnea is suspected to not be severe and we are mainly looking to establish a baseline for potential future remedies. One thing to keep in mind is the accurracy of the device relative to these SpO2 variations from baseline. I am using the Oxiline Pulse XS Pro (https://oxiline.shop/product/pulse-xs-pro/) which has recieved FDA 510(k) clearance meaning the reading are accurate to within 3% of actual arterial blood gas values for readings between 70% and 100% (https://www.fda.gov/medical-devices/safety-communications/pulse-oximeter-accuracy-and-limitations-fda-safety-communication). This 3% ($\\pm$1.5%) variability introduces considerable relative uncertainty in our results as we are looking at SpO2 reductions as low as 2%. However as mentioned we are collecting enough data to establish a baseline, the more data we collect the more clear any changes to our baseline will become should any solutions be implemented."
   ]
  },
  {
   "cell_type": "code",
   "execution_count": 1,
   "id": "f1f696af",
   "metadata": {},
   "outputs": [],
   "source": [
    "import pandas as pd"
   ]
  },
  {
   "cell_type": "code",
   "execution_count": 4,
   "id": "d868d31c",
   "metadata": {},
   "outputs": [],
   "source": [
    "df = pd.read_csv('data/20231111-20231211_OXYGEN_medm.csv')"
   ]
  },
  {
   "cell_type": "code",
   "execution_count": 5,
   "id": "cbc29464",
   "metadata": {},
   "outputs": [
    {
     "data": {
      "text/html": [
       "<div>\n",
       "<style scoped>\n",
       "    .dataframe tbody tr th:only-of-type {\n",
       "        vertical-align: middle;\n",
       "    }\n",
       "\n",
       "    .dataframe tbody tr th {\n",
       "        vertical-align: top;\n",
       "    }\n",
       "\n",
       "    .dataframe thead th {\n",
       "        text-align: right;\n",
       "    }\n",
       "</style>\n",
       "<table border=\"1\" class=\"dataframe\">\n",
       "  <thead>\n",
       "    <tr style=\"text-align: right;\">\n",
       "      <th></th>\n",
       "      <th>Date</th>\n",
       "      <th>Time</th>\n",
       "      <th>SpO2 (%)</th>\n",
       "      <th>Pulse</th>\n",
       "      <th>Duration</th>\n",
       "      <th>Source</th>\n",
       "    </tr>\n",
       "  </thead>\n",
       "  <tbody>\n",
       "    <tr>\n",
       "      <th>0</th>\n",
       "      <td>2023-12-11</td>\n",
       "      <td>01:04</td>\n",
       "      <td>98.0</td>\n",
       "      <td>44.0</td>\n",
       "      <td>1min 20s</td>\n",
       "      <td>Oxiline Pulse XS Pro</td>\n",
       "    </tr>\n",
       "    <tr>\n",
       "      <th>1</th>\n",
       "      <td>2023-12-11</td>\n",
       "      <td>00:54</td>\n",
       "      <td>97.0</td>\n",
       "      <td>46.0</td>\n",
       "      <td>10min 0s</td>\n",
       "      <td>Oxiline Pulse XS Pro</td>\n",
       "    </tr>\n",
       "    <tr>\n",
       "      <th>2</th>\n",
       "      <td>2023-12-11</td>\n",
       "      <td>00:44</td>\n",
       "      <td>97.0</td>\n",
       "      <td>45.0</td>\n",
       "      <td>10min 0s</td>\n",
       "      <td>Oxiline Pulse XS Pro</td>\n",
       "    </tr>\n",
       "    <tr>\n",
       "      <th>3</th>\n",
       "      <td>2023-12-11</td>\n",
       "      <td>00:34</td>\n",
       "      <td>98.0</td>\n",
       "      <td>47.0</td>\n",
       "      <td>10min 0s</td>\n",
       "      <td>Oxiline Pulse XS Pro</td>\n",
       "    </tr>\n",
       "    <tr>\n",
       "      <th>4</th>\n",
       "      <td>2023-12-11</td>\n",
       "      <td>00:24</td>\n",
       "      <td>97.0</td>\n",
       "      <td>44.0</td>\n",
       "      <td>10min 0s</td>\n",
       "      <td>Oxiline Pulse XS Pro</td>\n",
       "    </tr>\n",
       "  </tbody>\n",
       "</table>\n",
       "</div>"
      ],
      "text/plain": [
       "         Date   Time  SpO2 (%)  Pulse  Duration                Source\n",
       "0  2023-12-11  01:04      98.0   44.0  1min 20s  Oxiline Pulse XS Pro\n",
       "1  2023-12-11  00:54      97.0   46.0  10min 0s  Oxiline Pulse XS Pro\n",
       "2  2023-12-11  00:44      97.0   45.0  10min 0s  Oxiline Pulse XS Pro\n",
       "3  2023-12-11  00:34      98.0   47.0  10min 0s  Oxiline Pulse XS Pro\n",
       "4  2023-12-11  00:24      97.0   44.0  10min 0s  Oxiline Pulse XS Pro"
      ]
     },
     "execution_count": 5,
     "metadata": {},
     "output_type": "execute_result"
    }
   ],
   "source": [
    "df.head()"
   ]
  },
  {
   "attachments": {},
   "cell_type": "markdown",
   "id": "8df313c1",
   "metadata": {},
   "source": [
    "This is not the data I was expecting, the data available on the app is much more granular, see below for a screenshot of an example of the data output from the app for one of these 10 min blocks:\n",
    "\n",
    "<img src=\"Screenshot_20231215-121110_MedM_Health.jpg\" width=\"250\"> \n",
    "\n",
    "I will have to investiagte how to export all of the measured data, I am unsure how the SpO2 value is derived for these 10 minute intervals (it may be the last value by looking at the example above) but it does not seem to be adequate for the purpose of this study as in the screenshot above there are short dips that would likely contribute to the ODI however are not represented by the single value."
   ]
  }
 ],
 "metadata": {
  "kernelspec": {
   "display_name": "Python 3 (ipykernel)",
   "language": "python",
   "name": "python3"
  },
  "language_info": {
   "codemirror_mode": {
    "name": "ipython",
    "version": 3
   },
   "file_extension": ".py",
   "mimetype": "text/x-python",
   "name": "python",
   "nbconvert_exporter": "python",
   "pygments_lexer": "ipython3",
   "version": "3.9.13"
  }
 },
 "nbformat": 4,
 "nbformat_minor": 5
}
